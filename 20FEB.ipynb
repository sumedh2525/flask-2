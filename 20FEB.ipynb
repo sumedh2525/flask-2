{
 "cells": [
  {
   "cell_type": "raw",
   "id": "8a1612a8-4494-46b8-8fe8-a928c9ed91b4",
   "metadata": {},
   "source": [
    "Q1. Explain GET and POST methods.\n",
    "\n",
    "\n",
    " Get and Post methods are the HTTP request methods used inside the <form> tag to send form data to the server.\n",
    "HTTP protocol enables the communication between the client and the server where a browser can be the client,\n",
    "and an application running on a computer system that hosts your website can be the server."
   ]
  },
  {
   "cell_type": "raw",
   "id": "6e3007e8-65fd-4f9d-bf5c-e9605a9a37f6",
   "metadata": {},
   "source": [
    "#  Q2. Why is request used in Flask?\n",
    "\n",
    "\n",
    "#  In the client-server architecture, the request object contains all the data that is sent from the client to the server.\n",
    "#  As we have already discussed in the tutorial, we can retrieve the data at the server side using the HTTP methods."
   ]
  },
  {
   "cell_type": "raw",
   "id": "2cb6ee21-31b9-464e-aaba-1325647fec88",
   "metadata": {},
   "source": [
    "# Q3. Why is redirect() used in Flask?\n",
    "\n",
    "\n",
    "\n",
    "# Flask class has a redirect() function. When called, it returns a response object and redirects \n",
    "# the user to another target location with specified status code. \n",
    "# location parameter is the URL where response should be redirected. statuscode sent to browser's header, defaults to 302.\n"
   ]
  },
  {
   "cell_type": "raw",
   "id": "58c20157-ac42-4d08-8579-a2753ebe581c",
   "metadata": {},
   "source": [
    "# Q4. What are templates in Flask? Why is the render_template() function used?\n",
    "\n",
    "\n",
    "\n",
    "\n",
    "# render_template is a Flask function from the flask. templating package. \n",
    "# render_template is used to generate output from a\n",
    "# template file based on the Jinja2 engine that is found in the application's templates folder.\n",
    "# Note that render_template is typically imported directly from the flask package instead of from flask."
   ]
  },
  {
   "cell_type": "code",
   "execution_count": 1,
   "id": "420b7b37-4b66-4b0f-89d6-ca9aa91ad28f",
   "metadata": {},
   "outputs": [
    {
     "ename": "ModuleNotFoundError",
     "evalue": "No module named 'flask'",
     "output_type": "error",
     "traceback": [
      "\u001b[0;31m---------------------------------------------------------------------------\u001b[0m",
      "\u001b[0;31mModuleNotFoundError\u001b[0m                       Traceback (most recent call last)",
      "Cell \u001b[0;32mIn[1], line 3\u001b[0m\n\u001b[1;32m      1\u001b[0m \u001b[38;5;66;03m# Q5. Create a simple API. Use Postman to test it. Attach the screenshot of the output in the Jupyter Notebook.\u001b[39;00m\n\u001b[0;32m----> 3\u001b[0m \u001b[38;5;28;01mfrom\u001b[39;00m \u001b[38;5;21;01mflask\u001b[39;00m \u001b[38;5;28;01mimport\u001b[39;00m Flask\n\u001b[1;32m      5\u001b[0m app \u001b[38;5;241m=\u001b[39m Flask(\u001b[38;5;18m__name__\u001b[39m)\n\u001b[1;32m      7\u001b[0m \u001b[38;5;129m@app\u001b[39m\u001b[38;5;241m.\u001b[39mroute(\u001b[38;5;124m'\u001b[39m\u001b[38;5;124m/api/hello\u001b[39m\u001b[38;5;124m'\u001b[39m)\n\u001b[1;32m      8\u001b[0m \u001b[38;5;28;01mdef\u001b[39;00m \u001b[38;5;21mhello\u001b[39m():\n",
      "\u001b[0;31mModuleNotFoundError\u001b[0m: No module named 'flask'"
     ]
    }
   ],
   "source": [
    "# Q5. Create a simple API. Use Postman to test it. Attach the screenshot of the output in the Jupyter Notebook.\n",
    "\n",
    "from flask import Flask\n",
    "\n",
    "app = Flask(__name__)\n",
    "\n",
    "@app.route('/api/hello')\n",
    "def hello():\n",
    "    return 'Hello, World!'\n",
    "\n",
    "if __name__ == \"__main__\":\n",
    "    app.run()\n"
   ]
  },
  {
   "cell_type": "code",
   "execution_count": null,
   "id": "476db87d-92f7-42a0-bac0-adbdc25cab8c",
   "metadata": {},
   "outputs": [],
   "source": []
  }
 ],
 "metadata": {
  "kernelspec": {
   "display_name": "Python 3 (ipykernel)",
   "language": "python",
   "name": "python3"
  },
  "language_info": {
   "codemirror_mode": {
    "name": "ipython",
    "version": 3
   },
   "file_extension": ".py",
   "mimetype": "text/x-python",
   "name": "python",
   "nbconvert_exporter": "python",
   "pygments_lexer": "ipython3",
   "version": "3.10.8"
  }
 },
 "nbformat": 4,
 "nbformat_minor": 5
}
